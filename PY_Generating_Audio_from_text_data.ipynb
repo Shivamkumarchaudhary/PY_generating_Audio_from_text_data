{
 "cells": [
  {
   "cell_type": "code",
   "execution_count": 2,
   "id": "a1abc3e1",
   "metadata": {},
   "outputs": [
    {
     "data": {
      "text/plain": [
       "0"
      ]
     },
     "execution_count": 2,
     "metadata": {},
     "output_type": "execute_result"
    }
   ],
   "source": [
    "from gtts import gTTS\n",
    "\n",
    "# gTTS : This module actually allows us to go ahead and take any sort of text data and convert it into speech\n",
    "\n",
    "import os\n",
    "\n",
    "# os : access your operating system features\n",
    "\n",
    "mytext = \"Python Data Science Machine Learning Deep Learning Artificial Intelligence\"\n",
    "output = gTTS(text = mytext, lang ='en',slow =False)\n",
    "output.save('output.mp3')\n",
    "os.system(\"start output.mp3\")\n"
   ]
  },
  {
   "cell_type": "code",
   "execution_count": null,
   "id": "60c4bde0",
   "metadata": {},
   "outputs": [],
   "source": []
  }
 ],
 "metadata": {
  "kernelspec": {
   "display_name": "Python 3 (ipykernel)",
   "language": "python",
   "name": "python3"
  },
  "language_info": {
   "codemirror_mode": {
    "name": "ipython",
    "version": 3
   },
   "file_extension": ".py",
   "mimetype": "text/x-python",
   "name": "python",
   "nbconvert_exporter": "python",
   "pygments_lexer": "ipython3",
   "version": "3.9.12"
  }
 },
 "nbformat": 4,
 "nbformat_minor": 5
}
